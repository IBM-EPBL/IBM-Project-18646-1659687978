{
  "metadata": {
    "language_info": {
      "codemirror_mode": {
        "name": "python",
        "version": 3
      },
      "file_extension": ".py",
      "mimetype": "text/x-python",
      "name": "python",
      "nbconvert_exporter": "python",
      "pygments_lexer": "ipython3",
      "version": "3.8"
    },
    "kernelspec": {
      "name": "python",
      "display_name": "Python (Pyodide)",
      "language": "python"
    }
  },
  "nbformat_minor": 4,
  "nbformat": 4,
  "cells": [
    {
      "cell_type": "raw",
      "source": "center_id,city_code,region_code,center_type,op_area\n11,679,56,TYPE_A,3.7\n13,590,56,TYPE_B,6.7\n124,590,56,TYPE_C,4\n66,648,34,TYPE_A,4.1\n94,632,34,TYPE_C,3.6\n64,553,77,TYPE_A,4.4\n129,593,77,TYPE_A,3.9\n139,693,34,TYPE_C,2.8\n88,526,34,TYPE_A,4.1\n143,562,77,TYPE_B,3.8\n101,699,85,TYPE_C,2.8\n86,699,85,TYPE_C,4\n32,526,34,TYPE_A,3.8\n149,478,77,TYPE_A,2.4\n152,576,34,TYPE_B,4\n92,526,34,TYPE_C,2.9\n27,713,85,TYPE_A,4.5\n14,654,56,TYPE_C,2.7\n26,515,77,TYPE_C,3\n104,647,56,TYPE_A,4.5\n77,676,34,TYPE_A,3.8\n23,698,23,TYPE_A,3.4\n97,628,77,TYPE_A,4.6\n146,526,34,TYPE_B,5\n113,680,77,TYPE_C,4\n145,620,77,TYPE_A,3.9\n80,604,56,TYPE_C,5.1\n55,647,56,TYPE_C,2\n186,649,34,TYPE_A,3.4\n99,596,71,TYPE_A,4.5\n91,590,56,TYPE_C,0.9\n20,522,56,TYPE_A,4\n106,675,34,TYPE_A,4\n81,526,34,TYPE_A,4\n73,576,34,TYPE_A,4\n29,526,34,TYPE_C,4\n43,590,56,TYPE_A,5.1\n102,593,77,TYPE_A,2.8\n61,473,77,TYPE_A,4.5\n50,556,77,TYPE_A,4.8\n83,659,77,TYPE_A,5.3\n57,541,77,TYPE_C,2.8\n126,577,56,TYPE_A,2.7\n177,683,56,TYPE_A,3.4\n67,638,56,TYPE_B,7\n174,700,56,TYPE_A,7\n59,456,56,TYPE_A,4.2\n58,695,77,TYPE_C,3.8\n65,602,34,TYPE_A,4.8\n39,526,34,TYPE_C,3.8\n132,522,56,TYPE_A,3.9\n89,703,56,TYPE_A,4.8\n162,526,34,TYPE_C,2\n75,651,77,TYPE_B,4.7\n72,638,56,TYPE_C,3.9\n41,590,56,TYPE_C,1.9\n10,590,56,TYPE_B,6.3\n110,485,77,TYPE_A,3.8\n52,685,56,TYPE_B,5.6\n93,461,34,TYPE_A,3.9\n74,702,35,TYPE_A,2.8\n34,615,34,TYPE_B,4.2\n137,590,56,TYPE_A,4.4\n153,590,56,TYPE_A,3.9\n24,614,85,TYPE_B,3.6\n109,599,56,TYPE_A,3.6\n108,579,56,TYPE_B,4.4\n36,517,56,TYPE_B,4.4\n157,609,93,TYPE_A,4.1\n17,517,56,TYPE_A,3.2\n161,658,34,TYPE_B,3.9\n42,561,77,TYPE_B,3.9\n53,590,56,TYPE_A,3.8\n30,604,56,TYPE_A,3.5\n76,614,85,TYPE_A,3\n68,676,34,TYPE_B,4.1\n51,638,56,TYPE_A,7",
      "metadata": {}
    }
  ]
}