{
  "metadata": {
    "language_info": {
      "codemirror_mode": {
        "name": "python",
        "version": 3
      },
      "file_extension": ".py",
      "mimetype": "text/x-python",
      "name": "python",
      "nbconvert_exporter": "python",
      "pygments_lexer": "ipython3",
      "version": "3.8"
    },
    "kernelspec": {
      "name": "python",
      "display_name": "Python (Pyodide)",
      "language": "python"
    }
  },
  "nbformat_minor": 4,
  "nbformat": 4,
  "cells": [
    {
      "cell_type": "raw",
      "source": "<html lang=\"en\">\n<head>\n    <meta charset=\"UTF-8\">\n    <meta http-equiv=\"X-UA-Compatible\" content=\"IE=edge\">\n    <meta name=\"viewport\" content=\"width=device-width, initial-scale=1.0\">\n    <title>Predict</title>\n    <link rel=\"preconnect\" href=\"https://fonts.googleapis.com\">\n<link rel=\"preconnect\" href=\"https://fonts.gstatic.com\" crossorigin>\n<link href=\"https://fonts.googleapis.com/css2?family=Poppins:wght@200;300;400;600;800&display=swap\" rel=\"stylesheet\">\n<link rel=\"stylesheet\" href=\"https://cdnjs.cloudflare.com/ajax/libs/font-awesome/6.0.0-beta2/css/all.min.css\">\n\n<style>\n\n.bar\n{\nmargin: 0px;\npadding: 15px;\nbackground-color:rgb(100, 5, 29);\n/* opacity:0.6; */\nfont-family:'Poppins',sans-serif;\nfont-size:25px;\n}\na\n{\ncolor:#fff;\nfloat:right;\ntext-decoration:none;\npadding-right:20px;\n}\na:hover{\n    padding: 3.5px;\n    background: #FAAE42;\n\n}\nh1{\n    color:white;\n    font-family:Poppins;\n    font-size:30\n}\nh2{\n    color:white;\n    font-family: Poppins;\n    font-size:60;\n    margin-bottom: 10px;\n    \n}\n.my-cta-button{\n\n    font-size: 20px;\n    color: rgb(15, 15, 15); \n    border: 1px solid #0e0e0ccf;\n    padding: 3.5px;\n   \n    cursor: pointer; \n}\n.my-cta-button:hover{\n    border: 2px solid #faae42;\n    padding: 3.5px;\n    background: #FAAE42;\n}\np\n{\ncolor:white;\nfont-family: Poppins;\nfont-size:30px;\n}\n</style>\n</head>\n\n<body background=\"https://cdn.pixabay.com/photo/2016/12/26/17/28/spaghetti-1932466_1280.jpg\">\n\n    <div class=\"bar\">    \n      <a href=\"upload.html\">Predict</a>\n      <a href=\"home.html\">Home</a>\n     <br>\n        </div>\n    <div class=\"container\">\n            <center> <div id=\"content\" style=\"margin-top:2em\">\n            <h2><center>Food Demand Forecasting</center></h2>\n                 <form action=\"{{ url_for('predict') }}\" method=\"POST\">\n     \n     <select id=\"homepage_featured\" name=\"homepage_featured\">\n      <option value=\"\">homepage_featured</option>\n         <option value=\"0\">No</option>\n         <option value=\"1\">Yes</option>\n     \n       </select><br><br>\n     <select id=\"emailer_for_promotion\" name=\"emailer_for_promotion\">\n      <option value=\"\">emailer_for_promotion</option>\n         <option value=\"0\">No</option>\n         <option value=\"1\">Yes</option>\n     \n       </select><br><br>\n     \n     \n     <input class=\"form-input\" type=\"text\" name=\"op_area\" placeholder=\"Enter the op_area(2-7)\"><br><br>\n     <select id=\"cuisine\" name=\"cuisine\">\n     <option value=\"\">Cuisine</option>\n         <option value=\"0\">Continental</option>\n         <option value=\"1\">Indian</option>\n         <option value=\"2\">Italian</option>\n         <option value=\"3\">Thai</option>\n     \n       </select><br><br>\n       <input class=\"form-input\" type=\"text\" name=\"city_code\" placeholder=\"Enter city_code\"><br><br>\n     <input class=\"form-input\" type=\"text\" name=\"region_code\" placeholder=\"Enter region_code\"><br><br>\n     <select id=\"category\" name=\"category\">\n     <option value=\"\">Category</option>\n         <option value=\"0\">Beverages</option>\n         <option value=\"1\">Biryani</option>\n         <option value=\"2\">Desert</option>\n         <option value=\"3\">Extras</option>\n         <option value=\"4\">Fish</option>\n         <option value=\"5\">Other Snacks</option>\n         <option value=\"6\">Pasta</option>\n         <option value=\"7\">Pizza</option>\n         <option value=\"8\">Rice Bowl</option>\n         <option value=\"9\">Salad</option>\n         <option value=\"10\">Sandwich</option>\n         <option value=\"11\">Seafood</option>\n         <option value=\"12\">Soup</option>\n         <option value=\"13\">Starters</option>\n       </select><br><br>\n     \n                     <input type=\"submit\" class=\"my-cta-button\" value=\"Predict\">\n                 </form>\n     \n         <br>\n          <h1 class=\"predict\">Number of orders: {{ prediction_text }}</h1>\n            </div></center>\n         </div>\n     </body>\n</body>",
      "metadata": {}
    }
  ]
}