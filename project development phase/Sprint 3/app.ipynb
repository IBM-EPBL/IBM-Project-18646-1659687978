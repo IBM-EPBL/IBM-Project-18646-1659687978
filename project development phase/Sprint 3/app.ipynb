{
  "metadata": {
    "language_info": {
      "codemirror_mode": {
        "name": "python",
        "version": 3
      },
      "file_extension": ".py",
      "mimetype": "text/x-python",
      "name": "python",
      "nbconvert_exporter": "python",
      "pygments_lexer": "ipython3",
      "version": "3.8"
    },
    "kernelspec": {
      "name": "python",
      "display_name": "Python (Pyodide)",
      "language": "python"
    }
  },
  "nbformat_minor": 4,
  "nbformat": 4,
  "cells": [
    {
      "cell_type": "raw",
      "source": "{\n \"cells\": [\n  {\n   \"cell_type\": \"code\",\n   \"execution_count\": null,\n   \"id\": \"dfd4d20f\",\n   \"metadata\": {},\n   \"outputs\": [\n    {\n     \"name\": \"stdout\",\n     \"output_type\": \"stream\",\n     \"text\": [\n      \" * Serving Flask app \\\"__main__\\\" (lazy loading)\\n\",\n      \" * Environment: production\\n\",\n      \"\\u001b[31m   WARNING: This is a development server. Do not use it in a production deployment.\\u001b[0m\\n\",\n      \"\\u001b[2m   Use a production WSGI server instead.\\u001b[0m\\n\",\n      \" * Debug mode: off\\n\"\n     ]\n    },\n    {\n     \"name\": \"stderr\",\n     \"output_type\": \"stream\",\n     \"text\": [\n      \" * Running on http://127.0.0.1:5000/ (Press CTRL+C to quit)\\n\",\n      \"127.0.0.1 - - [14/Nov/2022 19:28:35] \\\"GET / HTTP/1.1\\\" 200 -\\n\",\n      \"127.0.0.1 - - [14/Nov/2022 19:28:35] \\\"GET /Flask/static/style.css HTTP/1.1\\\" 404 -\\n\",\n      \"127.0.0.1 - - [14/Nov/2022 19:28:35] \\\"GET /favicon.ico HTTP/1.1\\\" 404 -\\n\",\n      \"127.0.0.1 - - [14/Nov/2022 19:28:39] \\\"GET /upload.html HTTP/1.1\\\" 200 -\\n\"\n     ]\n    },\n    {\n     \"name\": \"stdout\",\n     \"output_type\": \"stream\",\n     \"text\": [\n      \"[INFO] loading model...\\n\"\n     ]\n    },\n    {\n     \"name\": \"stderr\",\n     \"output_type\": \"stream\",\n     \"text\": [\n      \"127.0.0.1 - - [14/Nov/2022 19:29:32] \\\"POST /predict HTTP/1.1\\\" 200 -\\n\"\n     ]\n    },\n    {\n     \"name\": \"stdout\",\n     \"output_type\": \"stream\",\n     \"text\": [\n      \"[array([  1.,   1.,   5.,   1., 146.,  87.,   1.])]\\n\",\n      \"284.0\\n\"\n     ]\n    },\n    {\n     \"name\": \"stderr\",\n     \"output_type\": \"stream\",\n     \"text\": [\n      \"127.0.0.1 - - [14/Nov/2022 19:30:22] \\\"POST /predict HTTP/1.1\\\" 200 -\\n\"\n     ]\n    },\n    {\n     \"name\": \"stdout\",\n     \"output_type\": \"stream\",\n     \"text\": [\n      \"[INFO] loading model...\\n\",\n      \"[array([  1.,   1.,   5.,   1., 146.,  87.,   1.])]\\n\",\n      \"284.0\\n\"\n     ]\n    }\n   ],\n   \"source\": [\n    \"# import the necessary packages\\n\",\n    \"import pandas as pd\\n\",\n    \"import numpy as np\\n\",\n    \"import pickle\\n\",\n    \"import os\\n\",\n    \"from flask import Flask,request, render_template\\n\",\n    \"app=Flask(__name__,template_folder=\\\"templates\\\")\\n\",\n    \"@app.route('/', methods=['GET'])\\n\",\n    \"def index():\\n\",\n    \"    return render_template('home.html')\\n\",\n    \"@app.route('/home.html', methods=['GET'])\\n\",\n    \"def about():\\n\",\n    \"    return render_template('home.html')\\n\",\n    \"@app.route('/upload.html',methods=['GET'])\\n\",\n    \"def page():\\n\",\n    \"    return render_template('upload.html')\\n\",\n    \"@app.route('/predict', methods=['GET', 'POST'])\\n\",\n    \"def predict():\\n\",\n    \"    print(\\\"[INFO] loading model...\\\")\\n\",\n    \"    model = pickle.load(open('fdemand.pkl', 'rb'))\\n\",\n    \"    input_features = [float(x) for x in request.form.values()]\\n\",\n    \"    features_value = [np.array(input_features)]\\n\",\n    \"    print(features_value)\\n\",\n    \"    \\n\",\n    \"    features_name = ['homepage_featured', 'emailer_for_promotion', 'op_area', 'cuisine',\\n\",\n    \"       'city_code', 'region_code', 'category']\\n\",\n    \"    prediction = model.predict(features_value)\\n\",\n    \"    output=prediction[0]    \\n\",\n    \"    print(output)\\n\",\n    \"    return render_template('upload.html', prediction_text=output)\\n\",\n    \"\\n\",\n    \"    \\n\",\n    \"if __name__ == '__main__':\\n\",\n    \"      app.run(debug=False)\"\n   ]\n  },\n  {\n   \"cell_type\": \"code\",\n   \"execution_count\": null,\n   \"id\": \"9ff34e00\",\n   \"metadata\": {},\n   \"outputs\": [],\n   \"source\": []\n  }\n ],\n \"metadata\": {\n  \"kernelspec\": {\n   \"display_name\": \"Python 3 (ipykernel)\",\n   \"language\": \"python\",\n   \"name\": \"python3\"\n  },\n  \"language_info\": {\n   \"codemirror_mode\": {\n    \"name\": \"ipython\",\n    \"version\": 3\n   },\n   \"file_extension\": \".py\",\n   \"mimetype\": \"text/x-python\",\n   \"name\": \"python\",\n   \"nbconvert_exporter\": \"python\",\n   \"pygments_lexer\": \"ipython3\",\n   \"version\": \"3.9.13\"\n  }\n },\n \"nbformat\": 4,\n \"nbformat_minor\": 5\n}",
      "metadata": {}
    }
  ]
}