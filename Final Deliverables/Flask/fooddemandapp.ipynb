{
  "metadata": {
    "language_info": {
      "codemirror_mode": {
        "name": "python",
        "version": 3
      },
      "file_extension": ".py",
      "mimetype": "text/x-python",
      "name": "python",
      "nbconvert_exporter": "python",
      "pygments_lexer": "ipython3",
      "version": "3.8"
    },
    "kernelspec": {
      "name": "python",
      "display_name": "Python (Pyodide)",
      "language": "python"
    }
  },
  "nbformat_minor": 4,
  "nbformat": 4,
  "cells": [
    {
      "cell_type": "raw",
      "source": "# import the necessary packages\nimport pandas as pd\nimport numpy as np\nimport pickle\nimport os\nfrom flask import Flask,request, render_template\napp=Flask(__name__,template_folder=\"templates\")\n@app.route('/', methods=['GET'])\ndef index():\n    return render_template('home.html')\n@app.route('/home', methods=['GET'])\ndef about():\n    return render_template('home.html')\n@app.route('/pred',methods=['GET'])\ndef page():\n    return render_template('upload.html')\n@app.route('/predict', methods=['GET', 'POST'])\ndef predict():\n    print(\"[INFO] loading model...\")\n    model = pickle.load(open('fdemand.pkl', 'rb'))\n    input_features = [float(x) for x in request.form.values()]\n    features_value = [np.array(input_features)]\n    print(features_value)\n    \n    features_name = ['homepage_featured', 'emailer_for_promotion', 'op_area', 'cuisine',\n       'city_code', 'region_code', 'category']\n    prediction = model.predict(features_value)\n    output=prediction[0]    \n    print(output)\n    return render_template('upload.html', prediction_text=output)\n\n    \nif __name__ == '__main__':\n      app.run(debug=False)",
      "metadata": {}
    }
  ]
}