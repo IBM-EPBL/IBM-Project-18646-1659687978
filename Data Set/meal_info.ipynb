{
  "metadata": {
    "language_info": {
      "codemirror_mode": {
        "name": "python",
        "version": 3
      },
      "file_extension": ".py",
      "mimetype": "text/x-python",
      "name": "python",
      "nbconvert_exporter": "python",
      "pygments_lexer": "ipython3",
      "version": "3.8"
    },
    "kernelspec": {
      "name": "python",
      "display_name": "Python (Pyodide)",
      "language": "python"
    }
  },
  "nbformat_minor": 4,
  "nbformat": 4,
  "cells": [
    {
      "cell_type": "raw",
      "source": "meal_id,category,cuisine\n1885,Beverages,Thai\n1993,Beverages,Thai\n2539,Beverages,Thai\n1248,Beverages,Indian\n2631,Beverages,Indian\n1311,Extras,Thai\n1062,Beverages,Italian\n1778,Beverages,Italian\n1803,Extras,Thai\n1198,Extras,Thai\n2707,Beverages,Italian\n1847,Soup,Thai\n1438,Soup,Thai\n2494,Soup,Thai\n2760,Other Snacks,Thai\n2490,Salad,Italian\n1109,Rice Bowl,Indian\n2290,Rice Bowl,Indian\n1525,Other Snacks,Thai\n2704,Other Snacks,Thai\n1878,Starters,Thai\n2640,Starters,Thai\n2577,Starters,Thai\n1754,Sandwich,Italian\n1971,Sandwich,Italian\n2306,Pasta,Italian\n2139,Beverages,Indian\n2826,Sandwich,Italian\n2664,Salad,Italian\n2569,Salad,Italian\n1230,Beverages,Continental\n1207,Beverages,Continental\n2322,Beverages,Continental\n2492,Desert,Indian\n1216,Pasta,Italian\n1727,Rice Bowl,Indian\n1902,Biryani,Indian\n1247,Biryani,Indian\n2304,Desert,Indian\n1543,Desert,Indian\n1770,Biryani,Indian\n2126,Pasta,Italian\n1558,Pizza,Continental\n2581,Pizza,Continental\n1962,Pizza,Continental\n1571,Fish,Continental\n2956,Fish,Continental\n2104,Fish,Continental\n2444,Seafood,Continental\n2867,Seafood,Continental\n1445,Seafood,Continental",
      "metadata": {}
    }
  ]
}